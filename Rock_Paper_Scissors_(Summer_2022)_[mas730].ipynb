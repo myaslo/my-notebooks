{
  "nbformat": 4,
  "nbformat_minor": 0,
  "metadata": {
    "colab": {
      "name": "Rock Paper Scissors (Summer 2022) - [mas730]",
      "provenance": [],
      "include_colab_link": true
    },
    "kernelspec": {
      "name": "python3",
      "display_name": "Python 3"
    },
    "language_info": {
      "name": "python"
    }
  },
  "cells": [
    {
      "cell_type": "markdown",
      "metadata": {
        "id": "view-in-github",
        "colab_type": "text"
      },
      "source": [
        "<a href=\"https://colab.research.google.com/github/myaslo/my-notebooks/blob/main/Rock_Paper_Scissors_(Summer_2022)_%5Bmas730%5D.ipynb\" target=\"_parent\"><img src=\"https://colab.research.google.com/assets/colab-badge.svg\" alt=\"Open In Colab\"/></a>"
      ]
    },
    {
      "cell_type": "markdown",
      "source": [
        "# \"Rock, Paper, Scissors\" Exercise\n"
      ],
      "metadata": {
        "id": "kWD8aWhLRb3s"
      }
    },
    {
      "cell_type": "markdown",
      "source": [
        "Develop a command-line Python application which will allow a human user to play a game of Rock-Paper-Scissors against a computer opponent. The game's functionality should adhere to the \"Requirements\" section below."
      ],
      "metadata": {
        "id": "4Srdlse6bI5q"
      }
    },
    {
      "cell_type": "markdown",
      "source": [
        "## Learning Objectives\n"
      ],
      "metadata": {
        "id": "qqSC3UQaRxl7"
      }
    },
    {
      "cell_type": "markdown",
      "source": [
        "\n",
        "  + Gain familiarity with the Python programming language, focusing on variables and conditional logic.\n",
        "  + Learn how to process and validate user inputs in Python.\n",
        "  + Learn how to import and access functionality provided by built-in Python modules and third-party Python packages.\n",
        "  + Practice editing, saving, and running Python notebooks.\n",
        "  + Have fun! 😸"
      ],
      "metadata": {
        "id": "lK0t6fqnRm60"
      }
    },
    {
      "cell_type": "markdown",
      "source": [
        "## Prerequisites\n"
      ],
      "metadata": {
        "id": "D-R7noftRm_D"
      }
    },
    {
      "cell_type": "markdown",
      "source": [
        "It will be helpful to have completed / reviewed the following exercises / materials before starting this exercise:\n",
        "  + [\"Hello World (Colab)\" Exercise](https://github.com/prof-rossetti/intro-to-python/blob/main/exercises/hello-world/colab.md)\n",
        "\n",
        "Here are some helpful references:\n",
        "  + [Python Language Overview](https://github.com/prof-rossetti/intro-to-python/blob/main/units/unit-2.md) focusing on:\n",
        "    + [Variables](https://github.com/prof-rossetti/intro-to-python/blob/main/notes/python/variables.md) \n",
        "    + [Conditionals](https://github.com/prof-rossetti/intro-to-python/blob/main/notes/python/control-flow.md)\n",
        "  + [Python Datatypes Overview](https://github.com/prof-rossetti/intro-to-python/blob/main/units/unit-3.md) "
      ],
      "metadata": {
        "id": "-bCXMMiuRnDb"
      }
    },
    {
      "cell_type": "markdown",
      "source": [
        "## Collaboration"
      ],
      "metadata": {
        "id": "Eo4jTk_9ZtH3"
      }
    },
    {
      "cell_type": "markdown",
      "source": [
        "\n",
        "\n",
        "It is OK to discuss this exercise generally with other students, to work together, and even to share some small code snippets! \n",
        "\n",
        "HOWEVER... If you receive any help from another student, you are expected to **provide appropriate attribution in a corresponding text cell or code comment**, like \"Student X helped me with this part\", or \"Student Y and I worked on this part together\".\n"
      ],
      "metadata": {
        "id": "dO9DxOGmZsE7"
      }
    },
    {
      "cell_type": "markdown",
      "source": [
        "## Submission Instructions\n"
      ],
      "metadata": {
        "id": "51K5AbeHSORR"
      }
    },
    {
      "cell_type": "markdown",
      "source": [
        "\n",
        "\n",
        "\n",
        "\n",
        "\n",
        "\n",
        "1. **Make a copy of this notebook** so you can edit and save your own version of it. Do the work in your copy of the notebook. \n",
        "2. **Update the title of your notebook** to include your name and/or net id.\n",
        "3. Edit the sharing settings: **share your notebook** publicly, so **\"anyone with the link can view\"**. Notebooks not shared properly may be subject to late deductions if an instructor is unable to access them at the time of grading.\n",
        "\n",
        "3. **Write Python code** in the \"Solution\" section to meet the requirements set forth in the \"Requirements\" section. \n",
        "\n",
        "4. When you're done coding and your notebook reflects your final work product, **submit the notebook sharing URL** via the designated submission form, choosing the \"Rock Paper Scissors\" exercise from the dropdown.\n",
        "\n"
      ],
      "metadata": {
        "id": "i_II8VyWSpyL"
      }
    },
    {
      "cell_type": "markdown",
      "source": [
        "## Evaluation\n"
      ],
      "metadata": {
        "id": "GWj6HNQQSzZA"
      }
    },
    {
      "cell_type": "markdown",
      "source": [
        "Exercise submissions will be evaluated according to the \"Requirements\" section below, as represented by the following rubric:\n",
        "\n",
        "Category | Requirement | Weight\n",
        "--- | --- | ---\n",
        "Info Inputs | Prompts the user to input their player name. | 10%\n",
        "Info Inputs | Prompts the user to input / select a choice from one of \"rock\", \"paper\", or \"scissors\". | 15%\n",
        "Validations | Handles user inputs of various capitalization (i.e. recognizes \"rock\", \"Rock\", \"ROCK\", \"RoCk\" as valid inputs). | 15%\n",
        "Validations | Fails gracefully if encountering an invalid user input (i.e. program does not crash or malfunction if user provides an invalid input, like \"OOPS\"). Avoids a red / crashed cell. | 15%\n",
        "Simulation | Generates a valid choice at random for the computer player. | 15%\n",
        "Calculations | Displays accurate information about which player is the winner. | 15%\n",
        "Info Outputs | Presents all desired information outputs to the user, ideally in a clear way with clean formatting. | 15%\n",
        "\n",
        "This rubric is tentative, and may be subject to slight adjustments during the grading process.\n",
        "\n",
        "If experiencing execution error(s) while evaluating the application's required functionality, evaluators are advised to reduce the project's grade by between 4% and 25%, depending on the circumstances and severity of the error(s)."
      ],
      "metadata": {
        "id": "ME5s2Ek6S1Dd"
      }
    },
    {
      "cell_type": "markdown",
      "source": [
        "## Requirements\n",
        "\n"
      ],
      "metadata": {
        "id": "tnj6eer-RnND"
      }
    },
    {
      "cell_type": "markdown",
      "source": [
        "### Processing User Inputs\n"
      ],
      "metadata": {
        "id": "6FOgQKiFRnQJ"
      }
    },
    {
      "cell_type": "markdown",
      "source": [
        "\n",
        "The application should prompt the user to input, or otherwise select, an option (i.e. \"rock\", \"paper\", or \"scissors\") via command-line interface (CLI). It should store the user's selection in a variable for later reference.\n",
        "\n",
        "> HINT: use [the `input()` function](https://github.com/prof-rossetti/intro-to-python/blob/main/notes/python/inputs.md) to capture user inputs.\n"
      ],
      "metadata": {
        "id": "vddQO9rNTs9L"
      }
    },
    {
      "cell_type": "markdown",
      "source": [
        "### Validating User Inputs\n"
      ],
      "metadata": {
        "id": "aaKY-opmT1X-"
      }
    },
    {
      "cell_type": "markdown",
      "source": [
        "\n",
        "\n",
        "The application should compare the user's selection against the list of valid options (i.e. \"rock\", \"paper\", \"scissors\") to determine whether the user has selected a valid option.\n",
        "\n",
        "It should be able to handle various capitalizations of the valid options (e.g. \"ROCK\", \"Rock\", or \"rock\").\n",
        "\n",
        "If the selection is invalid, the program should fail gracefully by displaying a friendly message to the user, and preventing further program execution. The program should not try to further process an invalid input, as it may lead to runtime errors."
      ],
      "metadata": {
        "id": "JNMU2msRRnS8"
      }
    },
    {
      "cell_type": "markdown",
      "source": [
        "### Simulating Computer Selection\n"
      ],
      "metadata": {
        "id": "dcUV0BzvTmpY"
      }
    },
    {
      "cell_type": "markdown",
      "source": [
        "\n",
        "\n",
        "The application should select one of the options (i.e. \"rock\", \"paper\", or \"scissors\") at random, and assign that as the computer player's choice.\n",
        "\n",
        "> HINT: use the `choice()` function provided by [the `random` module](https://github.com/prof-rossetti/intro-to-python/blob/main/notes/python/modules/random.md).\n",
        "\n",
        "> HINT: ensure the valid choices are stored in a [\"list\" datatype](https://github.com/prof-rossetti/intro-to-python/blob/main/notes/python/datatypes/lists.md), and then pass that list to the random choice function.\n"
      ],
      "metadata": {
        "id": "UJPuIG1BTnCM"
      }
    },
    {
      "cell_type": "markdown",
      "source": [
        "### Determining the Winner\n"
      ],
      "metadata": {
        "id": "Yq76aqerS-K7"
      }
    },
    {
      "cell_type": "markdown",
      "source": [
        "\n",
        "\n",
        "The application should compare the user's selection to the computer player's selection, and determine which is the winner. The following logic should govern that determination:\n",
        "\n",
        "  1. Rock beats Scissors\n",
        "  2. Paper beats Rock\n",
        "  3. Scissors beats Paper\n",
        "  4. Rock vs Rock, Paper vs Paper, and Scissors vs Scissors each results in a \"tie\"\n",
        "\n",
        "> HINT: use one or more [`if` statements](https://github.com/prof-rossetti/intro-to-python/blob/main/notes/python/control-flow.md#if-statements) (recommended approach for beginners), or it may also be possible to use other pre-configured representations of the winners, for example using a [dictionary datatype](https://github.com/prof-rossetti/intro-to-python/blob/main/notes/python/datatypes/dictionaries.md)  containing all possible outcomes.\n",
        "\n"
      ],
      "metadata": {
        "id": "lzvQeH2OS-y-"
      }
    },
    {
      "cell_type": "markdown",
      "source": [
        "### Displaying Results\n"
      ],
      "metadata": {
        "id": "vrAcJg4KRnVr"
      }
    },
    {
      "cell_type": "markdown",
      "source": [
        "\n",
        "After determining the winner, the application should display the results to the user. Desired information outputs (from start to finish) should include at least the following:\n",
        "\n",
        "  + A friendly welcome message, including the player's name (e.g. \"Player One\").\n",
        "  + The user's selected option\n",
        "  + The computer's selected option\n",
        "  + Whether the user or the computer was the winner\n",
        "  + A friendly farewell message\n",
        "\n",
        "Example desired output after one round of game-play:\n",
        "\n",
        "```\n",
        "Please input your player name: Player One\n",
        "---------\n",
        "Welcome 'Player One' to my Rock-Paper-Scissors Game!\n",
        "---------\n",
        "Please choose an option ('rock', 'paper', or 'scissors'): rock\n",
        "---------\n",
        "User choice: 'rock'\n",
        "---------\n",
        "Computer choice: 'scissors'\n",
        "---------\n",
        "You won! Thanks for playing.\n",
        "```\n"
      ],
      "metadata": {
        "id": "MOKoZt0oRnYe"
      }
    },
    {
      "cell_type": "markdown",
      "source": [
        "# Solution\n",
        "\n",
        "Please use a single cell, below, for your exercise solution:"
      ],
      "metadata": {
        "id": "X5X7eG8qTGWG"
      }
    },
    {
      "cell_type": "code",
      "source": [
        "player_name = input(\"Please input your name: \")\n",
        "print(player_name)\n",
        "\n",
        "print(\"--------\")\n",
        "\n",
        "print(f\"Welcome PLAYER {player_name} to the game!\")\n",
        "#alternatively, you can do print(\"WELCOME PLAYER\" , player_name)\n",
        "\n",
        "print(\"--------\")\n",
        "player_choice = input(\"Please select one of the following: rock, paper, scissors: \").lower()\n",
        "# str.lower() function should be able to convert all inputs into valid lower case inputs\n",
        "print(f\"USER CHOSE: {player_choice}\")\n",
        "\n",
        "valid_options = [\"rock\" , \"paper\", \"scissors\"]\n",
        "if player_choice not in valid_options:\n",
        "    print(\"OOPS! Invalid.\")\n",
        "else:\n",
        "    #generate computer choice\n",
        "    import random \n",
        "    computer_choice = random.choice(valid_options)\n",
        "    print(f\"COMPUTER CHOSE: {computer_choice}\")\n",
        "    print(\"--------\")\n",
        "    if player_choice == computer_choice:\n",
        "        print(\"Too bad, it's a tie!\")\n",
        "    elif player_choice.upper == \"rock\" and computer_choice == \"paper\":\n",
        "        print(\"Sorry, you lost!\")\n",
        "    elif player_choice == \"rock\" and computer_choice == \"scissors\":\n",
        "        print(\"Congrats, you beat the computer!\")\n",
        "    elif player_choice == \"paper\" and computer_choice == \"scissors\":\n",
        "        print(\"Sorry, you lost!\")\n",
        "    elif player_choice == \"paper\" and computer_choice == \"rock\":\n",
        "        print(\"Congrats, you beat the computer!\")\n",
        "    elif player_choice == \"scissors\" and computer_choice == \"paper\":\n",
        "        print(\"Congrats, you beat the computer!\")\n",
        "    elif player_choice == \"scissors\" and computer_choice == \"rock\":\n",
        "        print(\"Sorry, you lost!\")\n",
        "    else:\n",
        "        print(\"OOPS! Something went wrong, please try again.\")"
      ],
      "metadata": {
        "colab": {
          "base_uri": "https://localhost:8080/"
        },
        "outputId": "92b902e1-5798-4422-e952-f98f128a4094",
        "id": "qPDL72UOXOsp"
      },
      "execution_count": 16,
      "outputs": [
        {
          "output_type": "stream",
          "name": "stdout",
          "text": [
            "Please input your name: Mya\n",
            "Mya\n",
            "--------\n",
            "Welcome PLAYER Mya to the game!\n",
            "--------\n",
            "Please select one of the following: rock, paper, scissors: PapEr\n",
            "USER CHOSE: paper\n",
            "COMPUTER CHOSE: paper\n",
            "--------\n",
            "Too bad, it's a tie!\n"
          ]
        }
      ]
    },
    {
      "cell_type": "markdown",
      "source": [
        "# Scratch Work\n",
        "\n",
        "Feel free to use the section below for scratch work, which will not be evaluated. \n",
        "\n",
        "If there is any solution code make sure to include it in the \"Solution\" section above instead!"
      ],
      "metadata": {
        "id": "qnlJVq8VYEKI"
      }
    },
    {
      "cell_type": "code",
      "source": [
        "# process user inputs\n",
        "\n",
        "\n",
        "\n",
        "\n",
        "# validate user choice\n",
        "\n",
        "#computer choice\n",
        "\n",
        "# determine the winner"
      ],
      "metadata": {
        "id": "FGouqTDQS1sp"
      },
      "execution_count": null,
      "outputs": []
    },
    {
      "cell_type": "code",
      "source": [
        "# player_name = input(\"Please input your name: \")\n",
        "# print(player_name)\n",
        "# Welcome Player One to my rock paper scissors game!\n",
        "# print(\"Welcome Player One to my rock paper scissors game!\""
      ],
      "metadata": {
        "id": "ITePMxshYPQe"
      },
      "execution_count": null,
      "outputs": []
    },
    {
      "cell_type": "code",
      "source": [
        "player_name = input(\"Please input your name: \")\n",
        "print(player_name)\n",
        "\n",
        "print(\"Welcome Player one to my rock paper scissors game!\")\n",
        "\n",
        "def rps_go():\n",
        "    return \"rock\" and computer_choice == \"paper\"\n",
        "\n"
      ],
      "metadata": {
        "colab": {
          "base_uri": "https://localhost:8080/"
        },
        "outputId": "58252a50-9908-46ac-a73d-a17939a6d928",
        "id": "xY32oEFSSZVQ"
      },
      "execution_count": 1,
      "outputs": [
        {
          "output_type": "stream",
          "name": "stdout",
          "text": [
            "Please input your name: mya\n",
            "mya\n",
            "Welcome Player one to my rock paper scissors game!\n"
          ]
        }
      ]
    },
    {
      "cell_type": "code",
      "source": [
        "arr = \"rock, paper, scissors\"\n",
        "print(arr)"
      ],
      "metadata": {
        "id": "BukHEhRwYPmt",
        "colab": {
          "base_uri": "https://localhost:8080/"
        },
        "outputId": "60422fac-3dce-4b32-9f5f-c3c2684414b1"
      },
      "execution_count": null,
      "outputs": [
        {
          "output_type": "stream",
          "name": "stdout",
          "text": [
            "rock, paper, scissors\n"
          ]
        }
      ]
    },
    {
      "cell_type": "code",
      "source": [
        ""
      ],
      "metadata": {
        "id": "qvWi5GTqQ6C1"
      },
      "execution_count": null,
      "outputs": []
    },
    {
      "cell_type": "code",
      "source": [
        "# process user inputs\n",
        "player_name = input(\"Please input your name: \")\n",
        "print(player_name)\n",
        "\n",
        "print(\"--------\")\n",
        "\n",
        "print(\"Welcome PLAYER\", player_name, \"to my Rock-Paper-Scissors game!\")\n",
        "#alternatively, you can do print(\"WELCOME PLAYER\" + \" \" + player_name\n",
        "\n",
        "print(\"--------\")\n",
        "player_choice = input(\"Please select rock, paper, or scissors: \")\n",
        "print(\"USER CHOSE:\" , player_choice)\n",
        "# or print(\"USER CHOSE: \" + \" \" + player_choice\n",
        "print(\"--------\")\n",
        "\n",
        "# validate user choice\n",
        "\n",
        "\n",
        "# generate computer choice\n",
        "import random \n",
        "arr = [\"rock\", \"paper\", \"scissors\"]\n",
        "computer_choice = random.choice(arr)\n",
        "print(\"COMPUTER CHOSE:\" , computer_choice)\n",
        "\n",
        "# determine the winner\n",
        "print(\"--------\")\n",
        "# nested if statement:\n",
        "if player_choice == \"rock\":\n",
        "    print(\"TODO - rock logic\")\n",
        "    if computer_choice == \"rock\":\n",
        "        print(\"TIE\")\n",
        "    elif computer_choice == \"paper\":\n",
        "        print(\"COMPUTER WINS\")\n",
        "    elif computer_choice == \"scissors\":\n",
        "        print(\"PLAYER WINS\")\n",
        "elif player_choice == \"paper\":\n",
        "    print(\"TODO - paper logic\")\n",
        "elif player_choice == \"scissors\":\n",
        "    print(\"TODO - scissors logic\")\n",
        "else:\n",
        "    print(\"OOPS SOMETHING WENT WRONG\")\n",
        "\n",
        "\n",
        "\n",
        "\n"
      ],
      "metadata": {
        "colab": {
          "base_uri": "https://localhost:8080/"
        },
        "outputId": "5a26fbe0-5b6d-4ea0-af8b-452b2dc03fa2",
        "id": "wylMjw3KQ76o"
      },
      "execution_count": 8,
      "outputs": [
        {
          "output_type": "stream",
          "name": "stdout",
          "text": [
            "Please input your name: mya\n",
            "mya\n",
            "--------\n",
            "Welcome PLAYER mya to my Rock-Paper-Scissors game!\n",
            "--------\n",
            "Please select rock, paper, or scissors: rock'\n",
            "USER CHOSE: rock'\n",
            "--------\n",
            "COMPUTER CHOSE: paper\n",
            "--------\n",
            "OOPS SOMETHING WENT WRONG\n"
          ]
        }
      ]
    },
    {
      "cell_type": "code",
      "source": [
        "player_name = input(\"Please input your name: \")\n",
        "print(player_name)\n",
        "\n",
        "print(\"-------\")\n",
        "\n",
        "print(\"Welcome PLAYER\", player_name, \"to my Rock-Paper-Scissors game!\")\n",
        "#alternatively, you can do print(\"WELCOME PLAYER\" + \" \" + player_name\n",
        "\n",
        "print(\"--------\")\n",
        "player_choice = input(\"Please select one of the following: rock, paper, scissors: \")\n",
        "print(\"USER CHOSE:\" , player_choice)\n",
        "print(\"--------\")\n",
        "\n",
        "import random \n",
        "comp_opt = \"rock\", \"paper\", \"scissors\"\n",
        "arr = [comp_opt.upper() , comp_opt.lower]\n",
        "computer_choice = random.choice(arr)\n",
        "print(\"COMPUTER CHOSE:\" , computer_choice)\n",
        "\n",
        "print(\"--------\")\n",
        "if player_choice == computer_choice:\n",
        "    print(\"Too bad, it's a tie!\")\n",
        "elif player_choice == \"rock\" and computer_choice == \"paper\":\n",
        "    print(\"Sorry, the computer won!\")\n",
        "elif player_choice == \"rock\" and computer_choice == \"scissors\":\n",
        "    print(\"Congrats, you beat the computer!\")\n",
        "elif player_choice == \"paper\" and computer_choice == \"scissors\":\n",
        "    print(\"Sorry, the computer won!\")\n",
        "elif player_choice == \"paper\" and computer_choice == \"rock\":\n",
        "    print(\"Congrats, you beat the computer!\")\n",
        "elif player_choice == \"scissors\" and computer_choice == \"paper\":\n",
        "    print(\"Congrats, you beat the computer!\")\n",
        "elif player_choice == \"scissors\" and computer_choice == \"rock\":\n",
        "    print(\"Sorry, the computer won!\")R"
      ],
      "metadata": {
        "colab": {
          "base_uri": "https://localhost:8080/",
          "height": 373
        },
        "id": "RlYe0fE419fs",
        "outputId": "4d3c207b-c83d-4c7a-e23f-e7aac6802c4c"
      },
      "execution_count": null,
      "outputs": [
        {
          "output_type": "stream",
          "name": "stdout",
          "text": [
            "Please input your name: mya\n",
            "mya\n",
            "--------\n",
            "Welcome PLAYER mya to my Rock-Paper-Scissors game!\n",
            "--------\n",
            "Please select one of the following: rock, paper, scissors: rock\n",
            "USER CHOSE: rock\n",
            "--------\n"
          ]
        },
        {
          "output_type": "error",
          "ename": "AttributeError",
          "evalue": "ignored",
          "traceback": [
            "\u001b[0;31m---------------------------------------------------------------------------\u001b[0m",
            "\u001b[0;31mAttributeError\u001b[0m                            Traceback (most recent call last)",
            "\u001b[0;32m<ipython-input-12-db2a1be5fd2a>\u001b[0m in \u001b[0;36m<module>\u001b[0;34m()\u001b[0m\n\u001b[1;32m     14\u001b[0m \u001b[0;32mimport\u001b[0m \u001b[0mrandom\u001b[0m\u001b[0;34m\u001b[0m\u001b[0;34m\u001b[0m\u001b[0m\n\u001b[1;32m     15\u001b[0m \u001b[0mcomp_opt\u001b[0m \u001b[0;34m=\u001b[0m \u001b[0;34m\"rock\"\u001b[0m\u001b[0;34m,\u001b[0m \u001b[0;34m\"paper\"\u001b[0m\u001b[0;34m,\u001b[0m \u001b[0;34m\"scissors\"\u001b[0m\u001b[0;34m\u001b[0m\u001b[0;34m\u001b[0m\u001b[0m\n\u001b[0;32m---> 16\u001b[0;31m \u001b[0marr\u001b[0m \u001b[0;34m=\u001b[0m \u001b[0;34m[\u001b[0m\u001b[0mcomp_opt\u001b[0m\u001b[0;34m.\u001b[0m\u001b[0mupper\u001b[0m\u001b[0;34m(\u001b[0m\u001b[0;34m)\u001b[0m \u001b[0;34m,\u001b[0m \u001b[0mcomp_opt\u001b[0m\u001b[0;34m.\u001b[0m\u001b[0mlower\u001b[0m\u001b[0;34m]\u001b[0m\u001b[0;34m\u001b[0m\u001b[0;34m\u001b[0m\u001b[0m\n\u001b[0m\u001b[1;32m     17\u001b[0m \u001b[0mcomputer_choice\u001b[0m \u001b[0;34m=\u001b[0m \u001b[0mrandom\u001b[0m\u001b[0;34m.\u001b[0m\u001b[0mchoice\u001b[0m\u001b[0;34m(\u001b[0m\u001b[0marr\u001b[0m\u001b[0;34m)\u001b[0m\u001b[0;34m\u001b[0m\u001b[0;34m\u001b[0m\u001b[0m\n\u001b[1;32m     18\u001b[0m \u001b[0mprint\u001b[0m\u001b[0;34m(\u001b[0m\u001b[0;34m\"COMPUTER CHOSE:\"\u001b[0m \u001b[0;34m,\u001b[0m \u001b[0mcomputer_choice\u001b[0m\u001b[0;34m)\u001b[0m\u001b[0;34m\u001b[0m\u001b[0;34m\u001b[0m\u001b[0m\n",
            "\u001b[0;31mAttributeError\u001b[0m: 'tuple' object has no attribute 'upper'"
          ]
        }
      ]
    },
    {
      "cell_type": "markdown",
      "source": [
        ""
      ],
      "metadata": {
        "id": "UM7c5QXD2-Ma"
      }
    },
    {
      "cell_type": "code",
      "source": [
        "def rps_go():\n",
        "    if player_choice == computer_choice:\n",
        "        print(\"Too bad, it's a tie!\")\n",
        "    elif player_choice == \"rock\" and computer_choice == \"paper\":\n",
        "        print(\"Sorry, you lost!\")\n",
        "    elif player_choice == \"rock\" and computer_choice == \"scissors\":\n",
        "        print(\"Congrats, you beat the computer!\")\n",
        "    elif player_choice == \"paper\" and computer_choice == \"scissors\":\n",
        "        print(\"Sorry, you lost!\")\n",
        "    elif player_choice == \"paper\" and computer_choice == \"rock\":\n",
        "        print(\"Congrats, you beat the computer!\")\n",
        "    elif player_choice == \"scissors\" and computer_choice == \"paper\":\n",
        "        print(\"Congrats, you beat the computer!\")\n",
        "    elif player_choice == \"scissors\" and computer_choice == \"rock\":\n",
        "        print(\"Sorry, you lost!\")\n",
        "    else:\n",
        "        print(\"OOPS! Something went wrong, please try again.\")\n",
        "\n",
        "player_name = input(\"Please input your name: \")\n",
        "print(player_name)\n",
        "\n",
        "print(\"--------\")\n",
        "\n",
        "print(f\"Welcome PLAYER {player_name} to the game!\")\n",
        "#alternatively, you can do print(\"WELCOME PLAYER\" , player_name)\n",
        "\n",
        "print(\"--------\")\n",
        "player_choice = input(\"Please select one of the following: rock, paper, scissors: \")\n",
        "print(f\"USER CHOSE: {player_choice}\")\n",
        "valid_options = [\"rock\", \"paper\", \"scissors\"]\n",
        "if player_choice not in valid_options:\n",
        "    print(\"OOPS! Invalid.\")\n",
        "else:\n",
        "    #generate computer choice\n",
        "    import random \n",
        "    computer_choice = random.choice(valid_options)\n",
        "    print(f\"COMPUTER CHOSE: {computer_choice}\")\n",
        "    print(\"--------\")\n",
        "rps_go()"
      ],
      "metadata": {
        "colab": {
          "base_uri": "https://localhost:8080/"
        },
        "id": "3K7ql0Lh4qDf",
        "outputId": "8afa5a41-650e-4f71-b0c6-69e84978c17e"
      },
      "execution_count": 5,
      "outputs": [
        {
          "output_type": "stream",
          "name": "stdout",
          "text": [
            "Please input your name: mya\n",
            "mya\n",
            "--------\n",
            "Welcome PLAYER mya to the game!\n",
            "--------\n",
            "Please select one of the following: rock, paper, scissors: rock\n",
            "USER CHOSE: rock\n",
            "COMPUTER CHOSE: scissors\n",
            "--------\n",
            "Congrats, you beat the computer!\n"
          ]
        }
      ]
    }
  ]
}